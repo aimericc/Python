{
 "cells": [
  {
   "cell_type": "code",
   "execution_count": 1,
   "metadata": {
    "collapsed": true
   },
   "outputs": [],
   "source": [
    "def display_board(board):\n",
    "    board_list = board\n",
    "    return board_list"
   ]
  },
  {
   "cell_type": "code",
   "execution_count": 2,
   "outputs": [],
   "source": [
    "def player_mark_func():\n",
    "    active = True\n",
    "\n",
    "    while active:\n",
    "        player_mark_prefer = input(\n",
    "            \"Player 1, you want go first(X) or last(O)? \")\n",
    "\n",
    "        if player_mark_prefer in ['first', 'X']:\n",
    "            player_mark_temp = 'X'\n",
    "            active = False\n",
    "        elif player_mark_prefer in ['last', 'O']:\n",
    "            player_mark_temp = 'O'\n",
    "            active = False\n",
    "        elif player_mark_prefer.lower() == 'quit':\n",
    "            print(\"Session interrupted by user.\")\n",
    "            player_mark_temp = 0\n",
    "            active = False\n",
    "        else:\n",
    "            print(\"Enter 'first', 'last', 'O' or 'X': \")\n",
    "            active = True\n",
    "\n",
    "    return player_mark_temp"
   ],
   "metadata": {
    "collapsed": false,
    "pycharm": {
     "name": "#%%\n"
    }
   }
  },
  {
   "cell_type": "code",
   "execution_count": 3,
   "outputs": [],
   "source": [
    "def player_input():\n",
    "    while True:\n",
    "        player_input_position = input(\"Enter the position (1-9): \")\n",
    "        if player_input_position.isdigit():\n",
    "            if int(player_input_position) not in range(1, 10):\n",
    "                print(\"Enter again(1-9): \")\n",
    "            elif not space_check(test_board, int(player_input_position)):\n",
    "                print(\"Space already filled, Enter again(1-9): \")\n",
    "            else:\n",
    "                return int(player_input_position)\n",
    "        elif player_input_position.lower() == 'quit':\n",
    "            print(\"Session interrupted by user.\")\n",
    "            break\n",
    "        else:\n",
    "            print(\"cannot recognize, Enter again(1-9): \")"
   ],
   "metadata": {
    "collapsed": false,
    "pycharm": {
     "name": "#%%\n"
    }
   }
  },
  {
   "cell_type": "code",
   "execution_count": 4,
   "outputs": [],
   "source": [
    "def place_marker(board, marker, position):\n",
    "    board[position - 1] = marker"
   ],
   "metadata": {
    "collapsed": false,
    "pycharm": {
     "name": "#%%\n"
    }
   }
  },
  {
   "cell_type": "code",
   "execution_count": 5,
   "outputs": [],
   "source": [
    "def win_check(board, mark):\n",
    "    mark_win_check = mark\n",
    "    if board[0] == mark_win_check:\n",
    "        if board[1] == mark_win_check:\n",
    "            if board[2] == mark_win_check:\n",
    "                return True\n",
    "        elif board[3] == mark_win_check:\n",
    "            if board[6] == mark_win_check:\n",
    "                return True\n",
    "        elif board[4] == mark_win_check:\n",
    "            if board[8] == mark_win_check:\n",
    "                return True\n",
    "    elif board[1] == mark_win_check:\n",
    "        if board[4] == mark_win_check:\n",
    "            if board[7] == mark_win_check:\n",
    "                return True\n",
    "    elif board[2] == mark_win_check:\n",
    "        if board[5] == mark_win_check:\n",
    "            if board[8] == mark_win_check:\n",
    "                return True\n",
    "        elif board[4] == mark_win_check:\n",
    "            if board[6] == mark_win_check:\n",
    "                return True\n",
    "    elif board[3] == mark_win_check:\n",
    "        if board[4] == mark_win_check:\n",
    "            if board[5] == mark_win_check:\n",
    "                return True\n",
    "    elif board[6] == mark_win_check:\n",
    "        if board[7] == mark_win_check:\n",
    "            if board[8] == mark_win_check:\n",
    "                return True\n",
    "    else:\n",
    "        return False"
   ],
   "metadata": {
    "collapsed": false,
    "pycharm": {
     "name": "#%%\n"
    }
   }
  },
  {
   "cell_type": "code",
   "execution_count": 6,
   "outputs": [],
   "source": [
    "def space_check(board, position):\n",
    "    if board[position - 1] != '':\n",
    "        return False\n",
    "    else:\n",
    "        return True"
   ],
   "metadata": {
    "collapsed": false,
    "pycharm": {
     "name": "#%%\n"
    }
   }
  },
  {
   "cell_type": "code",
   "execution_count": 7,
   "outputs": [],
   "source": [
    "def full_board_check(board):\n",
    "    for i in board:\n",
    "        if i == '':\n",
    "            return False\n",
    "    return True"
   ],
   "metadata": {
    "collapsed": false,
    "pycharm": {
     "name": "#%%\n"
    }
   }
  },
  {
   "cell_type": "code",
   "execution_count": 8,
   "outputs": [],
   "source": [
    "def replay():\n",
    "    replay_prefer = input(\"GAME OVER!! Do you want to play again?(Y/N) \")\n",
    "    if replay_prefer.upper() == 'Y':\n",
    "        return True\n",
    "    else:\n",
    "        return False"
   ],
   "metadata": {
    "collapsed": false,
    "pycharm": {
     "name": "#%%\n"
    }
   }
  },
  {
   "cell_type": "code",
   "execution_count": 9,
   "outputs": [
    {
     "name": "stdout",
     "output_type": "stream",
     "text": [
      "Welcome to Tic Tac Toe!\n",
      "Tie! All spaces are filled.\n"
     ]
    }
   ],
   "source": [
    "print('Welcome to Tic Tac Toe!')\n",
    "\n",
    "while True:\n",
    "    # Set the game up here\n",
    "    test_board = ['', '', '', '', '', '', '', '', '']\n",
    "    display_board(test_board)\n",
    "\n",
    "    # player_mark = ''\n",
    "    # while player_mark not in ['X', 'O', 'first', 'last']:\n",
    "    player_mark = player_mark_func()\n",
    "    player_1_mark = player_mark\n",
    "\n",
    "    while True:\n",
    "        # Player 1 Turn\n",
    "        player_input_num = player_input()\n",
    "\n",
    "        place_marker(test_board, player_mark, player_input_num)\n",
    "        display_board(test_board)\n",
    "\n",
    "        if win_check(test_board, player_mark):\n",
    "            if player_mark == player_1_mark:\n",
    "                print(\"Player 1 wins!!\")\n",
    "                # replay()\n",
    "                break\n",
    "            elif player_mark != player_1_mark:\n",
    "                print(\"Player 2 wins!!\")\n",
    "                # replay()\n",
    "                break\n",
    "        elif full_board_check(test_board):\n",
    "            print(\"Tie! All spaces are filled.\")\n",
    "            # replay\n",
    "            break\n",
    "        else:\n",
    "            if player_mark == 'O':\n",
    "                player_mark = 'X'\n",
    "            else:\n",
    "                player_mark = 'O'\n",
    "            continue\n",
    "\n",
    "    if not replay():\n",
    "        break"
   ],
   "metadata": {
    "collapsed": false,
    "pycharm": {
     "name": "#%%\n"
    }
   }
  },
  {
   "cell_type": "code",
   "execution_count": null,
   "outputs": [],
   "source": [],
   "metadata": {
    "collapsed": false,
    "pycharm": {
     "name": "#%%\n"
    }
   }
  }
 ],
 "metadata": {
  "kernelspec": {
   "display_name": "Python 3",
   "language": "python",
   "name": "python3"
  },
  "language_info": {
   "codemirror_mode": {
    "name": "ipython",
    "version": 2
   },
   "file_extension": ".py",
   "mimetype": "text/x-python",
   "name": "python",
   "nbconvert_exporter": "python",
   "pygments_lexer": "ipython2",
   "version": "2.7.6"
  }
 },
 "nbformat": 4,
 "nbformat_minor": 0
}